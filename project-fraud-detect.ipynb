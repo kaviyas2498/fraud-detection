{
 "cells": [
  {
   "cell_type": "code",
   "execution_count": 1,
   "id": "d796eac7",
   "metadata": {
    "_cell_guid": "b1076dfc-b9ad-4769-8c92-a6c4dae69d19",
    "_kg_hide-input": true,
    "_uuid": "8f2839f25d086af736a60e9eeb907d3b93b6e0e5",
    "execution": {
     "iopub.execute_input": "2024-03-10T11:06:07.714083Z",
     "iopub.status.busy": "2024-03-10T11:06:07.713506Z",
     "iopub.status.idle": "2024-03-10T11:06:08.507863Z",
     "shell.execute_reply": "2024-03-10T11:06:08.506794Z"
    },
    "papermill": {
     "duration": 0.806715,
     "end_time": "2024-03-10T11:06:08.510507",
     "exception": false,
     "start_time": "2024-03-10T11:06:07.703792",
     "status": "completed"
    },
    "tags": []
   },
   "outputs": [
    {
     "name": "stdout",
     "output_type": "stream",
     "text": [
      "/kaggle/input/fraudsynth-credit-fraud-detection-dataset/fraud_detection_dataset.csv\n"
     ]
    }
   ],
   "source": [
    "# This Python 3 environment comes with many helpful analytics libraries installed\n",
    "# It is defined by the kaggle/python Docker image: https://github.com/kaggle/docker-python\n",
    "# For example, here's several helpful packages to load\n",
    "\n",
    "import numpy as np # linear algebra\n",
    "import pandas as pd # data processing, CSV file I/O (e.g. pd.read_csv)\n",
    "\n",
    "# Input data files are available in the read-only \"../input/\" directory\n",
    "# For example, running this (by clicking run or pressing Shift+Enter) will list all files under the input directory\n",
    "\n",
    "import os\n",
    "for dirname, _, filenames in os.walk('/kaggle/input'):\n",
    "    for filename in filenames:\n",
    "        print(os.path.join(dirname, filename))\n",
    "\n",
    "# You can write up to 20GB to the current directory (/kaggle/working/) that gets preserved as output when you create a version using \"Save & Run All\" \n",
    "# You can also write temporary files to /kaggle/temp/, but they won't be saved outside of the current session"
   ]
  },
  {
   "cell_type": "code",
   "execution_count": 2,
   "id": "248f140c",
   "metadata": {
    "execution": {
     "iopub.execute_input": "2024-03-10T11:06:08.528660Z",
     "iopub.status.busy": "2024-03-10T11:06:08.528161Z",
     "iopub.status.idle": "2024-03-10T11:06:10.420855Z",
     "shell.execute_reply": "2024-03-10T11:06:10.419879Z"
    },
    "papermill": {
     "duration": 1.903884,
     "end_time": "2024-03-10T11:06:10.423418",
     "exception": false,
     "start_time": "2024-03-10T11:06:08.519534",
     "status": "completed"
    },
    "tags": []
   },
   "outputs": [],
   "source": [
    "import seaborn as ss\n",
    "import matplotlib.pyplot as plt\n",
    "import numpy as np\n",
    "from sklearn.preprocessing import LabelEncoder,StandardScaler\n",
    "from sklearn.model_selection import train_test_split,RandomizedSearchCV\n",
    "from xgboost import XGBClassifier\n",
    "from sklearn.metrics import accuracy_score,classification_report,confusion_matrix\n",
    "from sklearn.linear_model import LogisticRegression"
   ]
  },
  {
   "cell_type": "code",
   "execution_count": 3,
   "id": "65f85f74",
   "metadata": {
    "execution": {
     "iopub.execute_input": "2024-03-10T11:06:10.440367Z",
     "iopub.status.busy": "2024-03-10T11:06:10.440007Z",
     "iopub.status.idle": "2024-03-10T11:06:18.495561Z",
     "shell.execute_reply": "2024-03-10T11:06:18.494286Z"
    },
    "papermill": {
     "duration": 8.067043,
     "end_time": "2024-03-10T11:06:18.498263",
     "exception": false,
     "start_time": "2024-03-10T11:06:10.431220",
     "status": "completed"
    },
    "tags": []
   },
   "outputs": [],
   "source": [
    "fraud=pd.read_csv(\"/kaggle/input/fraudsynth-credit-fraud-detection-dataset/fraud_detection_dataset.csv\")"
   ]
  },
  {
   "cell_type": "code",
   "execution_count": 4,
   "id": "7332814c",
   "metadata": {
    "execution": {
     "iopub.execute_input": "2024-03-10T11:06:18.515593Z",
     "iopub.status.busy": "2024-03-10T11:06:18.515213Z",
     "iopub.status.idle": "2024-03-10T11:06:18.544067Z",
     "shell.execute_reply": "2024-03-10T11:06:18.543035Z"
    },
    "papermill": {
     "duration": 0.040241,
     "end_time": "2024-03-10T11:06:18.546466",
     "exception": false,
     "start_time": "2024-03-10T11:06:18.506225",
     "status": "completed"
    },
    "tags": []
   },
   "outputs": [
    {
     "name": "stdout",
     "output_type": "stream",
     "text": [
      "<class 'pandas.core.frame.DataFrame'>\n",
      "RangeIndex: 2000000 entries, 0 to 1999999\n",
      "Data columns (total 10 columns):\n",
      " #   Column        Dtype  \n",
      "---  ------        -----  \n",
      " 0   timestamp     object \n",
      " 1   user_id       object \n",
      " 2   amount        float64\n",
      " 3   location      object \n",
      " 4   device_type   object \n",
      " 5   is_fraud      int64  \n",
      " 6   age           int64  \n",
      " 7   income        float64\n",
      " 8   debt          float64\n",
      " 9   credit_score  int64  \n",
      "dtypes: float64(3), int64(3), object(4)\n",
      "memory usage: 152.6+ MB\n"
     ]
    }
   ],
   "source": [
    "fraud.info()"
   ]
  },
  {
   "cell_type": "code",
   "execution_count": 5,
   "id": "a246528d",
   "metadata": {
    "execution": {
     "iopub.execute_input": "2024-03-10T11:06:18.563364Z",
     "iopub.status.busy": "2024-03-10T11:06:18.563008Z",
     "iopub.status.idle": "2024-03-10T11:06:18.856600Z",
     "shell.execute_reply": "2024-03-10T11:06:18.855519Z"
    },
    "papermill": {
     "duration": 0.30499,
     "end_time": "2024-03-10T11:06:18.859029",
     "exception": false,
     "start_time": "2024-03-10T11:06:18.554039",
     "status": "completed"
    },
    "tags": []
   },
   "outputs": [],
   "source": [
    "#timestamp and userid are unique so removing the columns from the data\n",
    "fraud_cp=fraud.copy()\n",
    "fraud.drop([\"timestamp\",\"user_id\"],axis=1,inplace=True)"
   ]
  },
  {
   "cell_type": "code",
   "execution_count": 6,
   "id": "6412a3f1",
   "metadata": {
    "execution": {
     "iopub.execute_input": "2024-03-10T11:06:18.876149Z",
     "iopub.status.busy": "2024-03-10T11:06:18.875718Z",
     "iopub.status.idle": "2024-03-10T11:06:18.899505Z",
     "shell.execute_reply": "2024-03-10T11:06:18.898703Z"
    },
    "papermill": {
     "duration": 0.034558,
     "end_time": "2024-03-10T11:06:18.901564",
     "exception": false,
     "start_time": "2024-03-10T11:06:18.867006",
     "status": "completed"
    },
    "tags": []
   },
   "outputs": [
    {
     "data": {
      "text/html": [
       "<div>\n",
       "<style scoped>\n",
       "    .dataframe tbody tr th:only-of-type {\n",
       "        vertical-align: middle;\n",
       "    }\n",
       "\n",
       "    .dataframe tbody tr th {\n",
       "        vertical-align: top;\n",
       "    }\n",
       "\n",
       "    .dataframe thead th {\n",
       "        text-align: right;\n",
       "    }\n",
       "</style>\n",
       "<table border=\"1\" class=\"dataframe\">\n",
       "  <thead>\n",
       "    <tr style=\"text-align: right;\">\n",
       "      <th></th>\n",
       "      <th>amount</th>\n",
       "      <th>location</th>\n",
       "      <th>device_type</th>\n",
       "      <th>is_fraud</th>\n",
       "      <th>age</th>\n",
       "      <th>income</th>\n",
       "      <th>debt</th>\n",
       "      <th>credit_score</th>\n",
       "    </tr>\n",
       "  </thead>\n",
       "  <tbody>\n",
       "    <tr>\n",
       "      <th>0</th>\n",
       "      <td>998.99</td>\n",
       "      <td>Grantfurt</td>\n",
       "      <td>Mobile</td>\n",
       "      <td>0</td>\n",
       "      <td>56</td>\n",
       "      <td>42524.98</td>\n",
       "      <td>8394.05</td>\n",
       "      <td>655</td>\n",
       "    </tr>\n",
       "    <tr>\n",
       "      <th>1</th>\n",
       "      <td>241.39</td>\n",
       "      <td>Kimberlychester</td>\n",
       "      <td>Tablet</td>\n",
       "      <td>0</td>\n",
       "      <td>52</td>\n",
       "      <td>69884.04</td>\n",
       "      <td>28434.06</td>\n",
       "      <td>395</td>\n",
       "    </tr>\n",
       "    <tr>\n",
       "      <th>2</th>\n",
       "      <td>836.42</td>\n",
       "      <td>Gutierrezville</td>\n",
       "      <td>Desktop</td>\n",
       "      <td>0</td>\n",
       "      <td>58</td>\n",
       "      <td>126953.62</td>\n",
       "      <td>39121.78</td>\n",
       "      <td>496</td>\n",
       "    </tr>\n",
       "    <tr>\n",
       "      <th>3</th>\n",
       "      <td>612.74</td>\n",
       "      <td>Markside</td>\n",
       "      <td>Desktop</td>\n",
       "      <td>0</td>\n",
       "      <td>19</td>\n",
       "      <td>128650.70</td>\n",
       "      <td>39652.48</td>\n",
       "      <td>612</td>\n",
       "    </tr>\n",
       "    <tr>\n",
       "      <th>4</th>\n",
       "      <td>135.55</td>\n",
       "      <td>Anthonyshire</td>\n",
       "      <td>Tablet</td>\n",
       "      <td>0</td>\n",
       "      <td>59</td>\n",
       "      <td>102020.39</td>\n",
       "      <td>7439.81</td>\n",
       "      <td>302</td>\n",
       "    </tr>\n",
       "    <tr>\n",
       "      <th>...</th>\n",
       "      <td>...</td>\n",
       "      <td>...</td>\n",
       "      <td>...</td>\n",
       "      <td>...</td>\n",
       "      <td>...</td>\n",
       "      <td>...</td>\n",
       "      <td>...</td>\n",
       "      <td>...</td>\n",
       "    </tr>\n",
       "    <tr>\n",
       "      <th>1999995</th>\n",
       "      <td>3478.81</td>\n",
       "      <td>Joelview</td>\n",
       "      <td>Desktop</td>\n",
       "      <td>1</td>\n",
       "      <td>20</td>\n",
       "      <td>127482.32</td>\n",
       "      <td>6161.07</td>\n",
       "      <td>796</td>\n",
       "    </tr>\n",
       "    <tr>\n",
       "      <th>1999996</th>\n",
       "      <td>2337.90</td>\n",
       "      <td>Taylormouth</td>\n",
       "      <td>Mobile</td>\n",
       "      <td>1</td>\n",
       "      <td>22</td>\n",
       "      <td>94866.98</td>\n",
       "      <td>21614.64</td>\n",
       "      <td>660</td>\n",
       "    </tr>\n",
       "    <tr>\n",
       "      <th>1999997</th>\n",
       "      <td>2142.04</td>\n",
       "      <td>Coryview</td>\n",
       "      <td>Mobile</td>\n",
       "      <td>1</td>\n",
       "      <td>51</td>\n",
       "      <td>137229.33</td>\n",
       "      <td>5654.83</td>\n",
       "      <td>432</td>\n",
       "    </tr>\n",
       "    <tr>\n",
       "      <th>1999998</th>\n",
       "      <td>2452.60</td>\n",
       "      <td>Escobarfurt</td>\n",
       "      <td>Desktop</td>\n",
       "      <td>1</td>\n",
       "      <td>45</td>\n",
       "      <td>129794.90</td>\n",
       "      <td>34964.36</td>\n",
       "      <td>317</td>\n",
       "    </tr>\n",
       "    <tr>\n",
       "      <th>1999999</th>\n",
       "      <td>4385.23</td>\n",
       "      <td>East Angelica</td>\n",
       "      <td>Desktop</td>\n",
       "      <td>1</td>\n",
       "      <td>49</td>\n",
       "      <td>81110.21</td>\n",
       "      <td>44744.80</td>\n",
       "      <td>312</td>\n",
       "    </tr>\n",
       "  </tbody>\n",
       "</table>\n",
       "<p>2000000 rows × 8 columns</p>\n",
       "</div>"
      ],
      "text/plain": [
       "          amount         location device_type  is_fraud  age     income  \\\n",
       "0         998.99        Grantfurt      Mobile         0   56   42524.98   \n",
       "1         241.39  Kimberlychester      Tablet         0   52   69884.04   \n",
       "2         836.42   Gutierrezville     Desktop         0   58  126953.62   \n",
       "3         612.74         Markside     Desktop         0   19  128650.70   \n",
       "4         135.55     Anthonyshire      Tablet         0   59  102020.39   \n",
       "...          ...              ...         ...       ...  ...        ...   \n",
       "1999995  3478.81         Joelview     Desktop         1   20  127482.32   \n",
       "1999996  2337.90      Taylormouth      Mobile         1   22   94866.98   \n",
       "1999997  2142.04         Coryview      Mobile         1   51  137229.33   \n",
       "1999998  2452.60      Escobarfurt     Desktop         1   45  129794.90   \n",
       "1999999  4385.23    East Angelica     Desktop         1   49   81110.21   \n",
       "\n",
       "             debt  credit_score  \n",
       "0         8394.05           655  \n",
       "1        28434.06           395  \n",
       "2        39121.78           496  \n",
       "3        39652.48           612  \n",
       "4         7439.81           302  \n",
       "...           ...           ...  \n",
       "1999995   6161.07           796  \n",
       "1999996  21614.64           660  \n",
       "1999997   5654.83           432  \n",
       "1999998  34964.36           317  \n",
       "1999999  44744.80           312  \n",
       "\n",
       "[2000000 rows x 8 columns]"
      ]
     },
     "execution_count": 6,
     "metadata": {},
     "output_type": "execute_result"
    }
   ],
   "source": [
    "fraud"
   ]
  },
  {
   "cell_type": "code",
   "execution_count": 7,
   "id": "835615b3",
   "metadata": {
    "execution": {
     "iopub.execute_input": "2024-03-10T11:06:18.919021Z",
     "iopub.status.busy": "2024-03-10T11:06:18.918667Z",
     "iopub.status.idle": "2024-03-10T11:06:19.411516Z",
     "shell.execute_reply": "2024-03-10T11:06:19.409906Z"
    },
    "papermill": {
     "duration": 0.504697,
     "end_time": "2024-03-10T11:06:19.414110",
     "exception": false,
     "start_time": "2024-03-10T11:06:18.909413",
     "status": "completed"
    },
    "tags": []
   },
   "outputs": [
    {
     "name": "stdout",
     "output_type": "stream",
     "text": [
      "104592\n",
      "3\n"
     ]
    }
   ],
   "source": [
    "# Checking unique values in the location and device_type columns.\n",
    "print(fraud[\"location\"].nunique())\n",
    "print(fraud[\"device_type\"].nunique())"
   ]
  },
  {
   "cell_type": "code",
   "execution_count": 8,
   "id": "3f7fc3f4",
   "metadata": {
    "execution": {
     "iopub.execute_input": "2024-03-10T11:06:19.432532Z",
     "iopub.status.busy": "2024-03-10T11:06:19.432166Z",
     "iopub.status.idle": "2024-03-10T11:06:19.800528Z",
     "shell.execute_reply": "2024-03-10T11:06:19.799456Z"
    },
    "papermill": {
     "duration": 0.379719,
     "end_time": "2024-03-10T11:06:19.802794",
     "exception": false,
     "start_time": "2024-03-10T11:06:19.423075",
     "status": "completed"
    },
    "tags": []
   },
   "outputs": [
    {
     "data": {
      "text/plain": [
       "<Axes: xlabel='is_fraud', ylabel='count'>"
      ]
     },
     "execution_count": 8,
     "metadata": {},
     "output_type": "execute_result"
    },
    {
     "data": {
      "image/png": "[encoded data removed]",
      "text/plain": [
       "<Figure size 640x480 with 1 Axes>"
      ]
     },
     "metadata": {},
     "output_type": "display_data"
    }
   ],
   "source": [
    "ss.countplot(fraud,x=\"is_fraud\")"
   ]
  },
  {
   "cell_type": "code",
   "execution_count": 9,
   "id": "757323a0",
   "metadata": {
    "execution": {
     "iopub.execute_input": "2024-03-10T11:06:19.821188Z",
     "iopub.status.busy": "2024-03-10T11:06:19.820799Z",
     "iopub.status.idle": "2024-03-10T11:06:21.209431Z",
     "shell.execute_reply": "2024-03-10T11:06:21.208668Z"
    },
    "papermill": {
     "duration": 1.400733,
     "end_time": "2024-03-10T11:06:21.211982",
     "exception": false,
     "start_time": "2024-03-10T11:06:19.811249",
     "status": "completed"
    },
    "tags": []
   },
   "outputs": [
    {
     "data": {
      "text/plain": [
       "<Axes: xlabel='count', ylabel='device_type'>"
      ]
     },
     "execution_count": 9,
     "metadata": {},
     "output_type": "execute_result"
    },
    {
     "data": {
      "image/png": "[encoded data removed]",
      "text/plain": [
       "<Figure size 640x480 with 1 Axes>"
      ]
     },
     "metadata": {},
     "output_type": "display_data"
    }
   ],
   "source": [
    "ss.countplot(fraud,y=\"device_type\")"
   ]
  },
  {
   "cell_type": "code",
   "execution_count": 10,
   "id": "958a60bc",
   "metadata": {
    "execution": {
     "iopub.execute_input": "2024-03-10T11:06:21.230961Z",
     "iopub.status.busy": "2024-03-10T11:06:21.230565Z",
     "iopub.status.idle": "2024-03-10T11:06:21.235294Z",
     "shell.execute_reply": "2024-03-10T11:06:21.234167Z"
    },
    "papermill": {
     "duration": 0.016822,
     "end_time": "2024-03-10T11:06:21.237531",
     "exception": false,
     "start_time": "2024-03-10T11:06:21.220709",
     "status": "completed"
    },
    "tags": []
   },
   "outputs": [],
   "source": [
    "le=LabelEncoder()"
   ]
  },
  {
   "cell_type": "code",
   "execution_count": 11,
   "id": "1f9df526",
   "metadata": {
    "execution": {
     "iopub.execute_input": "2024-03-10T11:06:21.257123Z",
     "iopub.status.busy": "2024-03-10T11:06:21.256231Z",
     "iopub.status.idle": "2024-03-10T11:06:23.179213Z",
     "shell.execute_reply": "2024-03-10T11:06:23.178338Z"
    },
    "papermill": {
     "duration": 1.935179,
     "end_time": "2024-03-10T11:06:23.181539",
     "exception": false,
     "start_time": "2024-03-10T11:06:21.246360",
     "status": "completed"
    },
    "tags": []
   },
   "outputs": [],
   "source": [
    "#Encoding done for the object data type columns\n",
    "list=fraud.select_dtypes(object).columns\n",
    "for i in list:\n",
    "    fraud[i]=le.fit_transform(fraud[i])"
   ]
  },
  {
   "cell_type": "code",
   "execution_count": 12,
   "id": "4b4c3fc3",
   "metadata": {
    "execution": {
     "iopub.execute_input": "2024-03-10T11:06:23.201104Z",
     "iopub.status.busy": "2024-03-10T11:06:23.200477Z",
     "iopub.status.idle": "2024-03-10T11:06:23.210346Z",
     "shell.execute_reply": "2024-03-10T11:06:23.209169Z"
    },
    "papermill": {
     "duration": 0.022331,
     "end_time": "2024-03-10T11:06:23.212547",
     "exception": false,
     "start_time": "2024-03-10T11:06:23.190216",
     "status": "completed"
    },
    "tags": []
   },
   "outputs": [
    {
     "name": "stdout",
     "output_type": "stream",
     "text": [
      "<class 'pandas.core.frame.DataFrame'>\n",
      "RangeIndex: 2000000 entries, 0 to 1999999\n",
      "Data columns (total 8 columns):\n",
      " #   Column        Dtype  \n",
      "---  ------        -----  \n",
      " 0   amount        float64\n",
      " 1   location      int64  \n",
      " 2   device_type   int64  \n",
      " 3   is_fraud      int64  \n",
      " 4   age           int64  \n",
      " 5   income        float64\n",
      " 6   debt          float64\n",
      " 7   credit_score  int64  \n",
      "dtypes: float64(3), int64(5)\n",
      "memory usage: 122.1 MB\n"
     ]
    }
   ],
   "source": [
    "fraud.info()"
   ]
  },
  {
   "cell_type": "code",
   "execution_count": 13,
   "id": "abdf1ed5",
   "metadata": {
    "execution": {
     "iopub.execute_input": "2024-03-10T11:06:23.231731Z",
     "iopub.status.busy": "2024-03-10T11:06:23.231354Z",
     "iopub.status.idle": "2024-03-10T11:06:23.248171Z",
     "shell.execute_reply": "2024-03-10T11:06:23.247219Z"
    },
    "papermill": {
     "duration": 0.029414,
     "end_time": "2024-03-10T11:06:23.250612",
     "exception": false,
     "start_time": "2024-03-10T11:06:23.221198",
     "status": "completed"
    },
    "tags": []
   },
   "outputs": [
    {
     "data": {
      "text/plain": [
       "3"
      ]
     },
     "execution_count": 13,
     "metadata": {},
     "output_type": "execute_result"
    }
   ],
   "source": [
    "fraud[\"device_type\"].nunique()"
   ]
  },
  {
   "cell_type": "code",
   "execution_count": 14,
   "id": "bd3179bc",
   "metadata": {
    "execution": {
     "iopub.execute_input": "2024-03-10T11:06:23.270214Z",
     "iopub.status.busy": "2024-03-10T11:06:23.269852Z",
     "iopub.status.idle": "2024-03-10T11:06:23.414523Z",
     "shell.execute_reply": "2024-03-10T11:06:23.413412Z"
    },
    "papermill": {
     "duration": 0.157542,
     "end_time": "2024-03-10T11:06:23.417151",
     "exception": false,
     "start_time": "2024-03-10T11:06:23.259609",
     "status": "completed"
    },
    "tags": []
   },
   "outputs": [],
   "source": [
    "#standardisation done for columns which are mentioned in list\n",
    "std=StandardScaler()\n",
    "list=[\"amount\",\"location\",\"income\",\"debt\"]\n",
    "for i in list:\n",
    "    fraud[i]=std.fit_transform(fraud[[i]])"
   ]
  },
  {
   "cell_type": "code",
   "execution_count": 15,
   "id": "7308b764",
   "metadata": {
    "execution": {
     "iopub.execute_input": "2024-03-10T11:06:23.436764Z",
     "iopub.status.busy": "2024-03-10T11:06:23.436406Z",
     "iopub.status.idle": "2024-03-10T11:06:23.451351Z",
     "shell.execute_reply": "2024-03-10T11:06:23.450282Z"
    },
    "papermill": {
     "duration": 0.027453,
     "end_time": "2024-03-10T11:06:23.453525",
     "exception": false,
     "start_time": "2024-03-10T11:06:23.426072",
     "status": "completed"
    },
    "tags": []
   },
   "outputs": [
    {
     "data": {
      "text/html": [
       "<div>\n",
       "<style scoped>\n",
       "    .dataframe tbody tr th:only-of-type {\n",
       "        vertical-align: middle;\n",
       "    }\n",
       "\n",
       "    .dataframe tbody tr th {\n",
       "        vertical-align: top;\n",
       "    }\n",
       "\n",
       "    .dataframe thead th {\n",
       "        text-align: right;\n",
       "    }\n",
       "</style>\n",
       "<table border=\"1\" class=\"dataframe\">\n",
       "  <thead>\n",
       "    <tr style=\"text-align: right;\">\n",
       "      <th></th>\n",
       "      <th>amount</th>\n",
       "      <th>location</th>\n",
       "      <th>device_type</th>\n",
       "      <th>is_fraud</th>\n",
       "      <th>age</th>\n",
       "      <th>income</th>\n",
       "      <th>debt</th>\n",
       "      <th>credit_score</th>\n",
       "    </tr>\n",
       "  </thead>\n",
       "  <tbody>\n",
       "    <tr>\n",
       "      <th>0</th>\n",
       "      <td>-0.500406</td>\n",
       "      <td>-0.865121</td>\n",
       "      <td>1</td>\n",
       "      <td>0</td>\n",
       "      <td>56</td>\n",
       "      <td>-1.132261</td>\n",
       "      <td>-1.148888</td>\n",
       "      <td>655</td>\n",
       "    </tr>\n",
       "    <tr>\n",
       "      <th>1</th>\n",
       "      <td>-1.004076</td>\n",
       "      <td>-0.719819</td>\n",
       "      <td>2</td>\n",
       "      <td>0</td>\n",
       "      <td>52</td>\n",
       "      <td>-0.403308</td>\n",
       "      <td>0.238920</td>\n",
       "      <td>395</td>\n",
       "    </tr>\n",
       "    <tr>\n",
       "      <th>2</th>\n",
       "      <td>-0.608486</td>\n",
       "      <td>-0.856240</td>\n",
       "      <td>0</td>\n",
       "      <td>0</td>\n",
       "      <td>58</td>\n",
       "      <td>1.117250</td>\n",
       "      <td>0.979064</td>\n",
       "      <td>496</td>\n",
       "    </tr>\n",
       "    <tr>\n",
       "      <th>3</th>\n",
       "      <td>-0.757194</td>\n",
       "      <td>-0.303331</td>\n",
       "      <td>0</td>\n",
       "      <td>0</td>\n",
       "      <td>19</td>\n",
       "      <td>1.162467</td>\n",
       "      <td>1.015816</td>\n",
       "      <td>612</td>\n",
       "    </tr>\n",
       "    <tr>\n",
       "      <th>4</th>\n",
       "      <td>-1.074441</td>\n",
       "      <td>-1.507884</td>\n",
       "      <td>2</td>\n",
       "      <td>0</td>\n",
       "      <td>59</td>\n",
       "      <td>0.452931</td>\n",
       "      <td>-1.214971</td>\n",
       "      <td>302</td>\n",
       "    </tr>\n",
       "    <tr>\n",
       "      <th>...</th>\n",
       "      <td>...</td>\n",
       "      <td>...</td>\n",
       "      <td>...</td>\n",
       "      <td>...</td>\n",
       "      <td>...</td>\n",
       "      <td>...</td>\n",
       "      <td>...</td>\n",
       "      <td>...</td>\n",
       "    </tr>\n",
       "    <tr>\n",
       "      <th>1999995</th>\n",
       "      <td>1.148236</td>\n",
       "      <td>-0.757951</td>\n",
       "      <td>0</td>\n",
       "      <td>1</td>\n",
       "      <td>20</td>\n",
       "      <td>1.131337</td>\n",
       "      <td>-1.303526</td>\n",
       "      <td>796</td>\n",
       "    </tr>\n",
       "    <tr>\n",
       "      <th>1999996</th>\n",
       "      <td>0.389732</td>\n",
       "      <td>1.355269</td>\n",
       "      <td>1</td>\n",
       "      <td>1</td>\n",
       "      <td>22</td>\n",
       "      <td>0.262336</td>\n",
       "      <td>-0.233338</td>\n",
       "      <td>660</td>\n",
       "    </tr>\n",
       "    <tr>\n",
       "      <th>1999997</th>\n",
       "      <td>0.259520</td>\n",
       "      <td>-1.350170</td>\n",
       "      <td>1</td>\n",
       "      <td>1</td>\n",
       "      <td>51</td>\n",
       "      <td>1.391036</td>\n",
       "      <td>-1.338584</td>\n",
       "      <td>432</td>\n",
       "    </tr>\n",
       "    <tr>\n",
       "      <th>1999998</th>\n",
       "      <td>0.465988</td>\n",
       "      <td>-0.928621</td>\n",
       "      <td>0</td>\n",
       "      <td>1</td>\n",
       "      <td>45</td>\n",
       "      <td>1.192953</td>\n",
       "      <td>0.691155</td>\n",
       "      <td>317</td>\n",
       "    </tr>\n",
       "    <tr>\n",
       "      <th>1999999</th>\n",
       "      <td>1.750844</td>\n",
       "      <td>-1.270469</td>\n",
       "      <td>0</td>\n",
       "      <td>1</td>\n",
       "      <td>49</td>\n",
       "      <td>-0.104198</td>\n",
       "      <td>1.368469</td>\n",
       "      <td>312</td>\n",
       "    </tr>\n",
       "  </tbody>\n",
       "</table>\n",
       "<p>2000000 rows × 8 columns</p>\n",
       "</div>"
      ],
      "text/plain": [
       "           amount  location  device_type  is_fraud  age    income      debt  \\\n",
       "0       -0.500406 -0.865121            1         0   56 -1.132261 -1.148888   \n",
       "1       -1.004076 -0.719819            2         0   52 -0.403308  0.238920   \n",
       "2       -0.608486 -0.856240            0         0   58  1.117250  0.979064   \n",
       "3       -0.757194 -0.303331            0         0   19  1.162467  1.015816   \n",
       "4       -1.074441 -1.507884            2         0   59  0.452931 -1.214971   \n",
       "...           ...       ...          ...       ...  ...       ...       ...   \n",
       "1999995  1.148236 -0.757951            0         1   20  1.131337 -1.303526   \n",
       "1999996  0.389732  1.355269            1         1   22  0.262336 -0.233338   \n",
       "1999997  0.259520 -1.350170            1         1   51  1.391036 -1.338584   \n",
       "1999998  0.465988 -0.928621            0         1   45  1.192953  0.691155   \n",
       "1999999  1.750844 -1.270469            0         1   49 -0.104198  1.368469   \n",
       "\n",
       "         credit_score  \n",
       "0                 655  \n",
       "1                 395  \n",
       "2                 496  \n",
       "3                 612  \n",
       "4                 302  \n",
       "...               ...  \n",
       "1999995           796  \n",
       "1999996           660  \n",
       "1999997           432  \n",
       "1999998           317  \n",
       "1999999           312  \n",
       "\n",
       "[2000000 rows x 8 columns]"
      ]
     },
     "execution_count": 15,
     "metadata": {},
     "output_type": "execute_result"
    }
   ],
   "source": [
    "fraud"
   ]
  },
  {
   "cell_type": "code",
   "execution_count": 16,
   "id": "52307c37",
   "metadata": {
    "execution": {
     "iopub.execute_input": "2024-03-10T11:06:23.474223Z",
     "iopub.status.busy": "2024-03-10T11:06:23.473858Z",
     "iopub.status.idle": "2024-03-10T11:06:23.936400Z",
     "shell.execute_reply": "2024-03-10T11:06:23.935347Z"
    },
    "papermill": {
     "duration": 0.475585,
     "end_time": "2024-03-10T11:06:23.938704",
     "exception": false,
     "start_time": "2024-03-10T11:06:23.463119",
     "status": "completed"
    },
    "tags": []
   },
   "outputs": [
    {
     "data": {
      "text/html": [
       "<div>\n",
       "<style scoped>\n",
       "    .dataframe tbody tr th:only-of-type {\n",
       "        vertical-align: middle;\n",
       "    }\n",
       "\n",
       "    .dataframe tbody tr th {\n",
       "        vertical-align: top;\n",
       "    }\n",
       "\n",
       "    .dataframe thead th {\n",
       "        text-align: right;\n",
       "    }\n",
       "</style>\n",
       "<table border=\"1\" class=\"dataframe\">\n",
       "  <thead>\n",
       "    <tr style=\"text-align: right;\">\n",
       "      <th></th>\n",
       "      <th>amount</th>\n",
       "      <th>location</th>\n",
       "      <th>device_type</th>\n",
       "      <th>is_fraud</th>\n",
       "      <th>age</th>\n",
       "      <th>income</th>\n",
       "      <th>debt</th>\n",
       "      <th>credit_score</th>\n",
       "    </tr>\n",
       "  </thead>\n",
       "  <tbody>\n",
       "    <tr>\n",
       "      <th>amount</th>\n",
       "      <td>1.000000</td>\n",
       "      <td>0.000402</td>\n",
       "      <td>-0.000787</td>\n",
       "      <td>0.829145</td>\n",
       "      <td>-0.000563</td>\n",
       "      <td>-0.000906</td>\n",
       "      <td>0.000776</td>\n",
       "      <td>0.000147</td>\n",
       "    </tr>\n",
       "    <tr>\n",
       "      <th>location</th>\n",
       "      <td>0.000402</td>\n",
       "      <td>1.000000</td>\n",
       "      <td>-0.000255</td>\n",
       "      <td>-0.000017</td>\n",
       "      <td>-0.001109</td>\n",
       "      <td>-0.000180</td>\n",
       "      <td>0.000277</td>\n",
       "      <td>-0.000622</td>\n",
       "    </tr>\n",
       "    <tr>\n",
       "      <th>device_type</th>\n",
       "      <td>-0.000787</td>\n",
       "      <td>-0.000255</td>\n",
       "      <td>1.000000</td>\n",
       "      <td>-0.000137</td>\n",
       "      <td>0.000661</td>\n",
       "      <td>-0.000192</td>\n",
       "      <td>0.000349</td>\n",
       "      <td>-0.001198</td>\n",
       "    </tr>\n",
       "    <tr>\n",
       "      <th>is_fraud</th>\n",
       "      <td>0.829145</td>\n",
       "      <td>-0.000017</td>\n",
       "      <td>-0.000137</td>\n",
       "      <td>1.000000</td>\n",
       "      <td>-0.000697</td>\n",
       "      <td>0.000016</td>\n",
       "      <td>0.000149</td>\n",
       "      <td>0.000427</td>\n",
       "    </tr>\n",
       "    <tr>\n",
       "      <th>age</th>\n",
       "      <td>-0.000563</td>\n",
       "      <td>-0.001109</td>\n",
       "      <td>0.000661</td>\n",
       "      <td>-0.000697</td>\n",
       "      <td>1.000000</td>\n",
       "      <td>-0.000185</td>\n",
       "      <td>-0.001130</td>\n",
       "      <td>-0.000113</td>\n",
       "    </tr>\n",
       "    <tr>\n",
       "      <th>income</th>\n",
       "      <td>-0.000906</td>\n",
       "      <td>-0.000180</td>\n",
       "      <td>-0.000192</td>\n",
       "      <td>0.000016</td>\n",
       "      <td>-0.000185</td>\n",
       "      <td>1.000000</td>\n",
       "      <td>-0.000387</td>\n",
       "      <td>0.000864</td>\n",
       "    </tr>\n",
       "    <tr>\n",
       "      <th>debt</th>\n",
       "      <td>0.000776</td>\n",
       "      <td>0.000277</td>\n",
       "      <td>0.000349</td>\n",
       "      <td>0.000149</td>\n",
       "      <td>-0.001130</td>\n",
       "      <td>-0.000387</td>\n",
       "      <td>1.000000</td>\n",
       "      <td>-0.000095</td>\n",
       "    </tr>\n",
       "    <tr>\n",
       "      <th>credit_score</th>\n",
       "      <td>0.000147</td>\n",
       "      <td>-0.000622</td>\n",
       "      <td>-0.001198</td>\n",
       "      <td>0.000427</td>\n",
       "      <td>-0.000113</td>\n",
       "      <td>0.000864</td>\n",
       "      <td>-0.000095</td>\n",
       "      <td>1.000000</td>\n",
       "    </tr>\n",
       "  </tbody>\n",
       "</table>\n",
       "</div>"
      ],
      "text/plain": [
       "                amount  location  device_type  is_fraud       age    income  \\\n",
       "amount        1.000000  0.000402    -0.000787  0.829145 -0.000563 -0.000906   \n",
       "location      0.000402  1.000000    -0.000255 -0.000017 -0.001109 -0.000180   \n",
       "device_type  -0.000787 -0.000255     1.000000 -0.000137  0.000661 -0.000192   \n",
       "is_fraud      0.829145 -0.000017    -0.000137  1.000000 -0.000697  0.000016   \n",
       "age          -0.000563 -0.001109     0.000661 -0.000697  1.000000 -0.000185   \n",
       "income       -0.000906 -0.000180    -0.000192  0.000016 -0.000185  1.000000   \n",
       "debt          0.000776  0.000277     0.000349  0.000149 -0.001130 -0.000387   \n",
       "credit_score  0.000147 -0.000622    -0.001198  0.000427 -0.000113  0.000864   \n",
       "\n",
       "                  debt  credit_score  \n",
       "amount        0.000776      0.000147  \n",
       "location      0.000277     -0.000622  \n",
       "device_type   0.000349     -0.001198  \n",
       "is_fraud      0.000149      0.000427  \n",
       "age          -0.001130     -0.000113  \n",
       "income       -0.000387      0.000864  \n",
       "debt          1.000000     -0.000095  \n",
       "credit_score -0.000095      1.000000  "
      ]
     },
     "execution_count": 16,
     "metadata": {},
     "output_type": "execute_result"
    }
   ],
   "source": [
    "#checking correlation between dependent variables.\n",
    "fraud.corr()"
   ]
  },
  {
   "cell_type": "code",
   "execution_count": 17,
   "id": "f99724d5",
   "metadata": {
    "execution": {
     "iopub.execute_input": "2024-03-10T11:06:23.960259Z",
     "iopub.status.busy": "2024-03-10T11:06:23.959506Z",
     "iopub.status.idle": "2024-03-10T11:06:24.025880Z",
     "shell.execute_reply": "2024-03-10T11:06:24.024712Z"
    },
    "papermill": {
     "duration": 0.079845,
     "end_time": "2024-03-10T11:06:24.028303",
     "exception": false,
     "start_time": "2024-03-10T11:06:23.948458",
     "status": "completed"
    },
    "tags": []
   },
   "outputs": [],
   "source": [
    "# Assigning dependent variable to x and indepedent variable to y\n",
    "x=fraud.drop(\"is_fraud\",axis=1)\n",
    "y=fraud[\"is_fraud\"]"
   ]
  },
  {
   "cell_type": "code",
   "execution_count": 18,
   "id": "dfcd5d9f",
   "metadata": {
    "execution": {
     "iopub.execute_input": "2024-03-10T11:06:24.048833Z",
     "iopub.status.busy": "2024-03-10T11:06:24.048423Z",
     "iopub.status.idle": "2024-03-10T11:06:24.464121Z",
     "shell.execute_reply": "2024-03-10T11:06:24.462969Z"
    },
    "papermill": {
     "duration": 0.428759,
     "end_time": "2024-03-10T11:06:24.466684",
     "exception": false,
     "start_time": "2024-03-10T11:06:24.037925",
     "status": "completed"
    },
    "tags": []
   },
   "outputs": [],
   "source": [
    "#train data and test data splitting\n",
    "xtrain, xtest, ytrain, ytest=train_test_split(x,y,test_size=0.3,random_state=42)"
   ]
  },
  {
   "cell_type": "markdown",
   "id": "2f56d9a3",
   "metadata": {
    "papermill": {
     "duration": 0.009663,
     "end_time": "2024-03-10T11:06:24.485955",
     "exception": false,
     "start_time": "2024-03-10T11:06:24.476292",
     "status": "completed"
    },
    "tags": []
   },
   "source": [
    "# ****Model building using Logistic Regression"
   ]
  },
  {
   "cell_type": "code",
   "execution_count": 19,
   "id": "ccdcb20a",
   "metadata": {
    "execution": {
     "iopub.execute_input": "2024-03-10T11:06:24.506685Z",
     "iopub.status.busy": "2024-03-10T11:06:24.506294Z",
     "iopub.status.idle": "2024-03-10T11:06:39.597833Z",
     "shell.execute_reply": "2024-03-10T11:06:39.596535Z"
    },
    "papermill": {
     "duration": 15.106167,
     "end_time": "2024-03-10T11:06:39.601470",
     "exception": false,
     "start_time": "2024-03-10T11:06:24.495303",
     "status": "completed"
    },
    "tags": []
   },
   "outputs": [],
   "source": [
    "lg=LogisticRegression(max_iter=1000)\n",
    "lg.fit(xtrain,ytrain)\n",
    "yp=lg.predict(xtest)"
   ]
  },
  {
   "cell_type": "code",
   "execution_count": 20,
   "id": "f9550923",
   "metadata": {
    "execution": {
     "iopub.execute_input": "2024-03-10T11:06:39.635682Z",
     "iopub.status.busy": "2024-03-10T11:06:39.634995Z",
     "iopub.status.idle": "2024-03-10T11:06:39.737610Z",
     "shell.execute_reply": "2024-03-10T11:06:39.736550Z"
    },
    "papermill": {
     "duration": 0.121977,
     "end_time": "2024-03-10T11:06:39.739961",
     "exception": false,
     "start_time": "2024-03-10T11:06:39.617984",
     "status": "completed"
    },
    "tags": []
   },
   "outputs": [
    {
     "data": {
      "text/plain": [
       "0.9980633333333333"
      ]
     },
     "execution_count": 20,
     "metadata": {},
     "output_type": "execute_result"
    }
   ],
   "source": [
    "accuracy_score(yp,ytest)"
   ]
  },
  {
   "cell_type": "code",
   "execution_count": 21,
   "id": "205c7e51",
   "metadata": {
    "execution": {
     "iopub.execute_input": "2024-03-10T11:06:39.760834Z",
     "iopub.status.busy": "2024-03-10T11:06:39.760477Z",
     "iopub.status.idle": "2024-03-10T11:06:41.036030Z",
     "shell.execute_reply": "2024-03-10T11:06:41.034992Z"
    },
    "papermill": {
     "duration": 1.288533,
     "end_time": "2024-03-10T11:06:41.038330",
     "exception": false,
     "start_time": "2024-03-10T11:06:39.749797",
     "status": "completed"
    },
    "tags": []
   },
   "outputs": [
    {
     "name": "stdout",
     "output_type": "stream",
     "text": [
      "              precision    recall  f1-score   support\n",
      "\n",
      "           0       1.00      1.00      1.00    301190\n",
      "           1       1.00      1.00      1.00    298810\n",
      "\n",
      "    accuracy                           1.00    600000\n",
      "   macro avg       1.00      1.00      1.00    600000\n",
      "weighted avg       1.00      1.00      1.00    600000\n",
      "\n"
     ]
    }
   ],
   "source": [
    "print(classification_report(yp,ytest))"
   ]
  },
  {
   "cell_type": "code",
   "execution_count": 22,
   "id": "66e9c21a",
   "metadata": {
    "execution": {
     "iopub.execute_input": "2024-03-10T11:06:41.059357Z",
     "iopub.status.busy": "2024-03-10T11:06:41.058993Z",
     "iopub.status.idle": "2024-03-10T11:06:41.191417Z",
     "shell.execute_reply": "2024-03-10T11:06:41.190532Z"
    },
    "papermill": {
     "duration": 0.145239,
     "end_time": "2024-03-10T11:06:41.193474",
     "exception": false,
     "start_time": "2024-03-10T11:06:41.048235",
     "status": "completed"
    },
    "tags": []
   },
   "outputs": [
    {
     "name": "stdout",
     "output_type": "stream",
     "text": [
      "[[300028   1162]\n",
      " [     0 298810]]\n"
     ]
    }
   ],
   "source": [
    "print(confusion_matrix(yp,ytest))"
   ]
  },
  {
   "cell_type": "markdown",
   "id": "49aec0e2",
   "metadata": {
    "papermill": {
     "duration": 0.009307,
     "end_time": "2024-03-10T11:06:41.212561",
     "exception": false,
     "start_time": "2024-03-10T11:06:41.203254",
     "status": "completed"
    },
    "tags": []
   },
   "source": [
    "# ****Model building using XGBoost classifier"
   ]
  },
  {
   "cell_type": "code",
   "execution_count": 23,
   "id": "150bf60c",
   "metadata": {
    "execution": {
     "iopub.execute_input": "2024-03-10T11:06:41.234480Z",
     "iopub.status.busy": "2024-03-10T11:06:41.233739Z",
     "iopub.status.idle": "2024-03-10T11:07:51.714913Z",
     "shell.execute_reply": "2024-03-10T11:07:51.713863Z"
    },
    "papermill": {
     "duration": 70.504363,
     "end_time": "2024-03-10T11:07:51.727153",
     "exception": false,
     "start_time": "2024-03-10T11:06:41.222790",
     "status": "completed"
    },
    "tags": []
   },
   "outputs": [
    {
     "data": {
      "text/html": [
       "<style>#sk-container-id-1 {color: black;background-color: white;}#sk-container-id-1 pre{padding: 0;}#sk-container-id-1 div.sk-toggleable {background-color: white;}#sk-container-id-1 label.sk-toggleable__label {cursor: pointer;display: block;width: 100%;margin-bottom: 0;padding: 0.3em;box-sizing: border-box;text-align: center;}#sk-container-id-1 label.sk-toggleable__label-arrow:before {content: \"▸\";float: left;margin-right: 0.25em;color: #696969;}#sk-container-id-1 label.sk-toggleable__label-arrow:hover:before {color: black;}#sk-container-id-1 div.sk-estimator:hover label.sk-toggleable__label-arrow:before {color: black;}#sk-container-id-1 div.sk-toggleable__content {max-height: 0;max-width: 0;overflow: hidden;text-align: left;background-color: #f0f8ff;}#sk-container-id-1 div.sk-toggleable__content pre {margin: 0.2em;color: black;border-radius: 0.25em;background-color: #f0f8ff;}#sk-container-id-1 input.sk-toggleable__control:checked~div.sk-toggleable__content {max-height: 200px;max-width: 100%;overflow: auto;}#sk-container-id-1 input.sk-toggleable__control:checked~label.sk-toggleable__label-arrow:before {content: \"▾\";}#sk-container-id-1 div.sk-estimator input.sk-toggleable__control:checked~label.sk-toggleable__label {background-color: #d4ebff;}#sk-container-id-1 div.sk-label input.sk-toggleable__control:checked~label.sk-toggleable__label {background-color: #d4ebff;}#sk-container-id-1 input.sk-hidden--visually {border: 0;clip: rect(1px 1px 1px 1px);clip: rect(1px, 1px, 1px, 1px);height: 1px;margin: -1px;overflow: hidden;padding: 0;position: absolute;width: 1px;}#sk-container-id-1 div.sk-estimator {font-family: monospace;background-color: #f0f8ff;border: 1px dotted black;border-radius: 0.25em;box-sizing: border-box;margin-bottom: 0.5em;}#sk-container-id-1 div.sk-estimator:hover {background-color: #d4ebff;}#sk-container-id-1 div.sk-parallel-item::after {content: \"\";width: 100%;border-bottom: 1px solid gray;flex-grow: 1;}#sk-container-id-1 div.sk-label:hover label.sk-toggleable__label {background-color: #d4ebff;}#sk-container-id-1 div.sk-serial::before {content: \"\";position: absolute;border-left: 1px solid gray;box-sizing: border-box;top: 0;bottom: 0;left: 50%;z-index: 0;}#sk-container-id-1 div.sk-serial {display: flex;flex-direction: column;align-items: center;background-color: white;padding-right: 0.2em;padding-left: 0.2em;position: relative;}#sk-container-id-1 div.sk-item {position: relative;z-index: 1;}#sk-container-id-1 div.sk-parallel {display: flex;align-items: stretch;justify-content: center;background-color: white;position: relative;}#sk-container-id-1 div.sk-item::before, #sk-container-id-1 div.sk-parallel-item::before {content: \"\";position: absolute;border-left: 1px solid gray;box-sizing: border-box;top: 0;bottom: 0;left: 50%;z-index: -1;}#sk-container-id-1 div.sk-parallel-item {display: flex;flex-direction: column;z-index: 1;position: relative;background-color: white;}#sk-container-id-1 div.sk-parallel-item:first-child::after {align-self: flex-end;width: 50%;}#sk-container-id-1 div.sk-parallel-item:last-child::after {align-self: flex-start;width: 50%;}#sk-container-id-1 div.sk-parallel-item:only-child::after {width: 0;}#sk-container-id-1 div.sk-dashed-wrapped {border: 1px dashed gray;margin: 0 0.4em 0.5em 0.4em;box-sizing: border-box;padding-bottom: 0.4em;background-color: white;}#sk-container-id-1 div.sk-label label {font-family: monospace;font-weight: bold;display: inline-block;line-height: 1.2em;}#sk-container-id-1 div.sk-label-container {text-align: center;}#sk-container-id-1 div.sk-container {/* jupyter's `normalize.less` sets `[hidden] { display: none; }` but bootstrap.min.css set `[hidden] { display: none !important; }` so we also need the `!important` here to be able to override the default hidden behavior on the sphinx rendered scikit-learn.org. See: https://github.com/scikit-learn/scikit-learn/issues/21755 */display: inline-block !important;position: relative;}#sk-container-id-1 div.sk-text-repr-fallback {display: none;}</style><div id=\"sk-container-id-1\" class=\"sk-top-container\"><div class=\"sk-text-repr-fallback\"><pre>RandomizedSearchCV(cv=5,\n",
       "                   estimator=XGBClassifier(base_score=None, booster=None,\n",
       "                                           callbacks=None,\n",
       "                                           colsample_bylevel=None,\n",
       "                                           colsample_bynode=None,\n",
       "                                           colsample_bytree=None, device=None,\n",
       "                                           early_stopping_rounds=None,\n",
       "                                           enable_categorical=False,\n",
       "                                           eval_metric=None, feature_types=None,\n",
       "                                           gamma=None, grow_policy=None,\n",
       "                                           importance_type=None,\n",
       "                                           interaction_constraints=None,\n",
       "                                           learning_rate...\n",
       "                                           max_cat_threshold=None,\n",
       "                                           max_cat_to_onehot=None,\n",
       "                                           max_delta_step=None, max_depth=None,\n",
       "                                           max_leaves=None,\n",
       "                                           min_child_weight=None, missing=nan,\n",
       "                                           monotone_constraints=None,\n",
       "                                           multi_strategy=None,\n",
       "                                           n_estimators=None, n_jobs=None,\n",
       "                                           num_parallel_tree=None,\n",
       "                                           random_state=42, ...),\n",
       "                   param_distributions=[{&#x27;learning_rate&#x27;: [0.0001, 0.001, 0.01,\n",
       "                                                           0.1],\n",
       "                                         &#x27;max_depth&#x27;: [3, 4, 5, 6, 7],\n",
       "                                         &#x27;n_estimators&#x27;: [5, 10, 15, 20]}])</pre><b>In a Jupyter environment, please rerun this cell to show the HTML representation or trust the notebook. <br />On GitHub, the HTML representation is unable to render, please try loading this page with nbviewer.org.</b></div><div class=\"sk-container\" hidden><div class=\"sk-item sk-dashed-wrapped\"><div class=\"sk-label-container\"><div class=\"sk-label sk-toggleable\"><input class=\"sk-toggleable__control sk-hidden--visually\" id=\"sk-estimator-id-1\" type=\"checkbox\" ><label for=\"sk-estimator-id-1\" class=\"sk-toggleable__label sk-toggleable__label-arrow\">RandomizedSearchCV</label><div class=\"sk-toggleable__content\"><pre>RandomizedSearchCV(cv=5,\n",
       "                   estimator=XGBClassifier(base_score=None, booster=None,\n",
       "                                           callbacks=None,\n",
       "                                           colsample_bylevel=None,\n",
       "                                           colsample_bynode=None,\n",
       "                                           colsample_bytree=None, device=None,\n",
       "                                           early_stopping_rounds=None,\n",
       "                                           enable_categorical=False,\n",
       "                                           eval_metric=None, feature_types=None,\n",
       "                                           gamma=None, grow_policy=None,\n",
       "                                           importance_type=None,\n",
       "                                           interaction_constraints=None,\n",
       "                                           learning_rate...\n",
       "                                           max_cat_threshold=None,\n",
       "                                           max_cat_to_onehot=None,\n",
       "                                           max_delta_step=None, max_depth=None,\n",
       "                                           max_leaves=None,\n",
       "                                           min_child_weight=None, missing=nan,\n",
       "                                           monotone_constraints=None,\n",
       "                                           multi_strategy=None,\n",
       "                                           n_estimators=None, n_jobs=None,\n",
       "                                           num_parallel_tree=None,\n",
       "                                           random_state=42, ...),\n",
       "                   param_distributions=[{&#x27;learning_rate&#x27;: [0.0001, 0.001, 0.01,\n",
       "                                                           0.1],\n",
       "                                         &#x27;max_depth&#x27;: [3, 4, 5, 6, 7],\n",
       "                                         &#x27;n_estimators&#x27;: [5, 10, 15, 20]}])</pre></div></div></div><div class=\"sk-parallel\"><div class=\"sk-parallel-item\"><div class=\"sk-item\"><div class=\"sk-label-container\"><div class=\"sk-label sk-toggleable\"><input class=\"sk-toggleable__control sk-hidden--visually\" id=\"sk-estimator-id-2\" type=\"checkbox\" ><label for=\"sk-estimator-id-2\" class=\"sk-toggleable__label sk-toggleable__label-arrow\">estimator: XGBClassifier</label><div class=\"sk-toggleable__content\"><pre>XGBClassifier(base_score=None, booster=None, callbacks=None,\n",
       "              colsample_bylevel=None, colsample_bynode=None,\n",
       "              colsample_bytree=None, device=None, early_stopping_rounds=None,\n",
       "              enable_categorical=False, eval_metric=None, feature_types=None,\n",
       "              gamma=None, grow_policy=None, importance_type=None,\n",
       "              interaction_constraints=None, learning_rate=None, max_bin=None,\n",
       "              max_cat_threshold=None, max_cat_to_onehot=None,\n",
       "              max_delta_step=None, max_depth=None, max_leaves=None,\n",
       "              min_child_weight=None, missing=nan, monotone_constraints=None,\n",
       "              multi_strategy=None, n_estimators=None, n_jobs=None,\n",
       "              num_parallel_tree=None, random_state=42, ...)</pre></div></div></div><div class=\"sk-serial\"><div class=\"sk-item\"><div class=\"sk-estimator sk-toggleable\"><input class=\"sk-toggleable__control sk-hidden--visually\" id=\"sk-estimator-id-3\" type=\"checkbox\" ><label for=\"sk-estimator-id-3\" class=\"sk-toggleable__label sk-toggleable__label-arrow\">XGBClassifier</label><div class=\"sk-toggleable__content\"><pre>XGBClassifier(base_score=None, booster=None, callbacks=None,\n",
       "              colsample_bylevel=None, colsample_bynode=None,\n",
       "              colsample_bytree=None, device=None, early_stopping_rounds=None,\n",
       "              enable_categorical=False, eval_metric=None, feature_types=None,\n",
       "              gamma=None, grow_policy=None, importance_type=None,\n",
       "              interaction_constraints=None, learning_rate=None, max_bin=None,\n",
       "              max_cat_threshold=None, max_cat_to_onehot=None,\n",
       "              max_delta_step=None, max_depth=None, max_leaves=None,\n",
       "              min_child_weight=None, missing=nan, monotone_constraints=None,\n",
       "              multi_strategy=None, n_estimators=None, n_jobs=None,\n",
       "              num_parallel_tree=None, random_state=42, ...)</pre></div></div></div></div></div></div></div></div></div></div>"
      ],
      "text/plain": [
       "RandomizedSearchCV(cv=5,\n",
       "                   estimator=XGBClassifier(base_score=None, booster=None,\n",
       "                                           callbacks=None,\n",
       "                                           colsample_bylevel=None,\n",
       "                                           colsample_bynode=None,\n",
       "                                           colsample_bytree=None, device=None,\n",
       "                                           early_stopping_rounds=None,\n",
       "                                           enable_categorical=False,\n",
       "                                           eval_metric=None, feature_types=None,\n",
       "                                           gamma=None, grow_policy=None,\n",
       "                                           importance_type=None,\n",
       "                                           interaction_constraints=None,\n",
       "                                           learning_rate...\n",
       "                                           max_cat_threshold=None,\n",
       "                                           max_cat_to_onehot=None,\n",
       "                                           max_delta_step=None, max_depth=None,\n",
       "                                           max_leaves=None,\n",
       "                                           min_child_weight=None, missing=nan,\n",
       "                                           monotone_constraints=None,\n",
       "                                           multi_strategy=None,\n",
       "                                           n_estimators=None, n_jobs=None,\n",
       "                                           num_parallel_tree=None,\n",
       "                                           random_state=42, ...),\n",
       "                   param_distributions=[{'learning_rate': [0.0001, 0.001, 0.01,\n",
       "                                                           0.1],\n",
       "                                         'max_depth': [3, 4, 5, 6, 7],\n",
       "                                         'n_estimators': [5, 10, 15, 20]}])"
      ]
     },
     "execution_count": 23,
     "metadata": {},
     "output_type": "execute_result"
    }
   ],
   "source": [
    "#Building xgb classifier with randomized search CV \n",
    "model=XGBClassifier(random_state=42)\n",
    "params=[{'n_estimators':[5,10,15,20],'max_depth':[3,4,5,6,7],'learning_rate':[0.0001,0.001,0.01,0.1]}]\n",
    "modelxg=RandomizedSearchCV(model,params,n_iter=10,cv=5)\n",
    "modelxg.fit(xtrain,ytrain)"
   ]
  },
  {
   "cell_type": "code",
   "execution_count": 24,
   "id": "99b88bac",
   "metadata": {
    "execution": {
     "iopub.execute_input": "2024-03-10T11:07:51.749369Z",
     "iopub.status.busy": "2024-03-10T11:07:51.748564Z",
     "iopub.status.idle": "2024-03-10T11:07:51.756638Z",
     "shell.execute_reply": "2024-03-10T11:07:51.755892Z"
    },
    "papermill": {
     "duration": 0.021492,
     "end_time": "2024-03-10T11:07:51.758691",
     "exception": false,
     "start_time": "2024-03-10T11:07:51.737199",
     "status": "completed"
    },
    "tags": []
   },
   "outputs": [
    {
     "data": {
      "text/plain": [
       "{'n_estimators': 15, 'max_depth': 3, 'learning_rate': 0.0001}"
      ]
     },
     "execution_count": 24,
     "metadata": {},
     "output_type": "execute_result"
    }
   ],
   "source": [
    "#Fetching best parameters and their values\n",
    "modelxg.best_params_"
   ]
  },
  {
   "cell_type": "code",
   "execution_count": 25,
   "id": "3162267d",
   "metadata": {
    "execution": {
     "iopub.execute_input": "2024-03-10T11:07:51.780896Z",
     "iopub.status.busy": "2024-03-10T11:07:51.780503Z",
     "iopub.status.idle": "2024-03-10T11:07:51.785312Z",
     "shell.execute_reply": "2024-03-10T11:07:51.784265Z"
    },
    "papermill": {
     "duration": 0.018537,
     "end_time": "2024-03-10T11:07:51.787323",
     "exception": false,
     "start_time": "2024-03-10T11:07:51.768786",
     "status": "completed"
    },
    "tags": []
   },
   "outputs": [],
   "source": [
    "#Building final XGBoost model.\n",
    "finalxg=XGBClassifier(n_estimators=20,max_depth=6,learning_rate=0.0001,random_state=42,n_iter=10)"
   ]
  },
  {
   "cell_type": "code",
   "execution_count": 26,
   "id": "e8c61920",
   "metadata": {
    "execution": {
     "iopub.execute_input": "2024-03-10T11:07:51.809725Z",
     "iopub.status.busy": "2024-03-10T11:07:51.809018Z",
     "iopub.status.idle": "2024-03-10T11:07:53.571243Z",
     "shell.execute_reply": "2024-03-10T11:07:53.570165Z"
    },
    "papermill": {
     "duration": 1.775934,
     "end_time": "2024-03-10T11:07:53.573389",
     "exception": false,
     "start_time": "2024-03-10T11:07:51.797455",
     "status": "completed"
    },
    "tags": []
   },
   "outputs": [
    {
     "name": "stderr",
     "output_type": "stream",
     "text": [
      "/opt/conda/lib/python3.10/site-packages/xgboost/core.py:160: UserWarning: [11:07:52] WARNING: /workspace/src/learner.cc:742: \n",
      "Parameters: { \"n_iter\" } are not used.\n",
      "\n",
      "  warnings.warn(smsg, UserWarning)\n"
     ]
    },
    {
     "data": {
      "text/html": [
       "<style>#sk-container-id-2 {color: black;background-color: white;}#sk-container-id-2 pre{padding: 0;}#sk-container-id-2 div.sk-toggleable {background-color: white;}#sk-container-id-2 label.sk-toggleable__label {cursor: pointer;display: block;width: 100%;margin-bottom: 0;padding: 0.3em;box-sizing: border-box;text-align: center;}#sk-container-id-2 label.sk-toggleable__label-arrow:before {content: \"▸\";float: left;margin-right: 0.25em;color: #696969;}#sk-container-id-2 label.sk-toggleable__label-arrow:hover:before {color: black;}#sk-container-id-2 div.sk-estimator:hover label.sk-toggleable__label-arrow:before {color: black;}#sk-container-id-2 div.sk-toggleable__content {max-height: 0;max-width: 0;overflow: hidden;text-align: left;background-color: #f0f8ff;}#sk-container-id-2 div.sk-toggleable__content pre {margin: 0.2em;color: black;border-radius: 0.25em;background-color: #f0f8ff;}#sk-container-id-2 input.sk-toggleable__control:checked~div.sk-toggleable__content {max-height: 200px;max-width: 100%;overflow: auto;}#sk-container-id-2 input.sk-toggleable__control:checked~label.sk-toggleable__label-arrow:before {content: \"▾\";}#sk-container-id-2 div.sk-estimator input.sk-toggleable__control:checked~label.sk-toggleable__label {background-color: #d4ebff;}#sk-container-id-2 div.sk-label input.sk-toggleable__control:checked~label.sk-toggleable__label {background-color: #d4ebff;}#sk-container-id-2 input.sk-hidden--visually {border: 0;clip: rect(1px 1px 1px 1px);clip: rect(1px, 1px, 1px, 1px);height: 1px;margin: -1px;overflow: hidden;padding: 0;position: absolute;width: 1px;}#sk-container-id-2 div.sk-estimator {font-family: monospace;background-color: #f0f8ff;border: 1px dotted black;border-radius: 0.25em;box-sizing: border-box;margin-bottom: 0.5em;}#sk-container-id-2 div.sk-estimator:hover {background-color: #d4ebff;}#sk-container-id-2 div.sk-parallel-item::after {content: \"\";width: 100%;border-bottom: 1px solid gray;flex-grow: 1;}#sk-container-id-2 div.sk-label:hover label.sk-toggleable__label {background-color: #d4ebff;}#sk-container-id-2 div.sk-serial::before {content: \"\";position: absolute;border-left: 1px solid gray;box-sizing: border-box;top: 0;bottom: 0;left: 50%;z-index: 0;}#sk-container-id-2 div.sk-serial {display: flex;flex-direction: column;align-items: center;background-color: white;padding-right: 0.2em;padding-left: 0.2em;position: relative;}#sk-container-id-2 div.sk-item {position: relative;z-index: 1;}#sk-container-id-2 div.sk-parallel {display: flex;align-items: stretch;justify-content: center;background-color: white;position: relative;}#sk-container-id-2 div.sk-item::before, #sk-container-id-2 div.sk-parallel-item::before {content: \"\";position: absolute;border-left: 1px solid gray;box-sizing: border-box;top: 0;bottom: 0;left: 50%;z-index: -1;}#sk-container-id-2 div.sk-parallel-item {display: flex;flex-direction: column;z-index: 1;position: relative;background-color: white;}#sk-container-id-2 div.sk-parallel-item:first-child::after {align-self: flex-end;width: 50%;}#sk-container-id-2 div.sk-parallel-item:last-child::after {align-self: flex-start;width: 50%;}#sk-container-id-2 div.sk-parallel-item:only-child::after {width: 0;}#sk-container-id-2 div.sk-dashed-wrapped {border: 1px dashed gray;margin: 0 0.4em 0.5em 0.4em;box-sizing: border-box;padding-bottom: 0.4em;background-color: white;}#sk-container-id-2 div.sk-label label {font-family: monospace;font-weight: bold;display: inline-block;line-height: 1.2em;}#sk-container-id-2 div.sk-label-container {text-align: center;}#sk-container-id-2 div.sk-container {/* jupyter's `normalize.less` sets `[hidden] { display: none; }` but bootstrap.min.css set `[hidden] { display: none !important; }` so we also need the `!important` here to be able to override the default hidden behavior on the sphinx rendered scikit-learn.org. See: https://github.com/scikit-learn/scikit-learn/issues/21755 */display: inline-block !important;position: relative;}#sk-container-id-2 div.sk-text-repr-fallback {display: none;}</style><div id=\"sk-container-id-2\" class=\"sk-top-container\"><div class=\"sk-text-repr-fallback\"><pre>XGBClassifier(base_score=None, booster=None, callbacks=None,\n",
       "              colsample_bylevel=None, colsample_bynode=None,\n",
       "              colsample_bytree=None, device=None, early_stopping_rounds=None,\n",
       "              enable_categorical=False, eval_metric=None, feature_types=None,\n",
       "              gamma=None, grow_policy=None, importance_type=None,\n",
       "              interaction_constraints=None, learning_rate=0.0001, max_bin=None,\n",
       "              max_cat_threshold=None, max_cat_to_onehot=None,\n",
       "              max_delta_step=None, max_depth=6, max_leaves=None,\n",
       "              min_child_weight=None, missing=nan, monotone_constraints=None,\n",
       "              multi_strategy=None, n_estimators=20, n_iter=10, n_jobs=None,\n",
       "              num_parallel_tree=None, ...)</pre><b>In a Jupyter environment, please rerun this cell to show the HTML representation or trust the notebook. <br />On GitHub, the HTML representation is unable to render, please try loading this page with nbviewer.org.</b></div><div class=\"sk-container\" hidden><div class=\"sk-item\"><div class=\"sk-estimator sk-toggleable\"><input class=\"sk-toggleable__control sk-hidden--visually\" id=\"sk-estimator-id-4\" type=\"checkbox\" checked><label for=\"sk-estimator-id-4\" class=\"sk-toggleable__label sk-toggleable__label-arrow\">XGBClassifier</label><div class=\"sk-toggleable__content\"><pre>XGBClassifier(base_score=None, booster=None, callbacks=None,\n",
       "              colsample_bylevel=None, colsample_bynode=None,\n",
       "              colsample_bytree=None, device=None, early_stopping_rounds=None,\n",
       "              enable_categorical=False, eval_metric=None, feature_types=None,\n",
       "              gamma=None, grow_policy=None, importance_type=None,\n",
       "              interaction_constraints=None, learning_rate=0.0001, max_bin=None,\n",
       "              max_cat_threshold=None, max_cat_to_onehot=None,\n",
       "              max_delta_step=None, max_depth=6, max_leaves=None,\n",
       "              min_child_weight=None, missing=nan, monotone_constraints=None,\n",
       "              multi_strategy=None, n_estimators=20, n_iter=10, n_jobs=None,\n",
       "              num_parallel_tree=None, ...)</pre></div></div></div></div></div>"
      ],
      "text/plain": [
       "XGBClassifier(base_score=None, booster=None, callbacks=None,\n",
       "              colsample_bylevel=None, colsample_bynode=None,\n",
       "              colsample_bytree=None, device=None, early_stopping_rounds=None,\n",
       "              enable_categorical=False, eval_metric=None, feature_types=None,\n",
       "              gamma=None, grow_policy=None, importance_type=None,\n",
       "              interaction_constraints=None, learning_rate=0.0001, max_bin=None,\n",
       "              max_cat_threshold=None, max_cat_to_onehot=None,\n",
       "              max_delta_step=None, max_depth=6, max_leaves=None,\n",
       "              min_child_weight=None, missing=nan, monotone_constraints=None,\n",
       "              multi_strategy=None, n_estimators=20, n_iter=10, n_jobs=None,\n",
       "              num_parallel_tree=None, ...)"
      ]
     },
     "execution_count": 26,
     "metadata": {},
     "output_type": "execute_result"
    }
   ],
   "source": [
    "finalxg.fit(xtrain,ytrain)"
   ]
  },
  {
   "cell_type": "code",
   "execution_count": 27,
   "id": "a35ce552",
   "metadata": {
    "execution": {
     "iopub.execute_input": "2024-03-10T11:07:53.596346Z",
     "iopub.status.busy": "2024-03-10T11:07:53.595378Z",
     "iopub.status.idle": "2024-03-10T11:07:53.670583Z",
     "shell.execute_reply": "2024-03-10T11:07:53.669769Z"
    },
    "papermill": {
     "duration": 0.089251,
     "end_time": "2024-03-10T11:07:53.672992",
     "exception": false,
     "start_time": "2024-03-10T11:07:53.583741",
     "status": "completed"
    },
    "tags": []
   },
   "outputs": [],
   "source": [
    "ypred=finalxg.predict(xtest)"
   ]
  },
  {
   "cell_type": "code",
   "execution_count": 28,
   "id": "b34d512d",
   "metadata": {
    "execution": {
     "iopub.execute_input": "2024-03-10T11:07:53.695897Z",
     "iopub.status.busy": "2024-03-10T11:07:53.695509Z",
     "iopub.status.idle": "2024-03-10T11:07:53.764439Z",
     "shell.execute_reply": "2024-03-10T11:07:53.763362Z"
    },
    "papermill": {
     "duration": 0.083022,
     "end_time": "2024-03-10T11:07:53.766595",
     "exception": false,
     "start_time": "2024-03-10T11:07:53.683573",
     "status": "completed"
    },
    "tags": []
   },
   "outputs": [
    {
     "data": {
      "text/plain": [
       "0.99971"
      ]
     },
     "execution_count": 28,
     "metadata": {},
     "output_type": "execute_result"
    }
   ],
   "source": [
    "accuracy_score(ypred,ytest)"
   ]
  },
  {
   "cell_type": "code",
   "execution_count": 29,
   "id": "e3d34ee1",
   "metadata": {
    "execution": {
     "iopub.execute_input": "2024-03-10T11:07:53.789407Z",
     "iopub.status.busy": "2024-03-10T11:07:53.789029Z",
     "iopub.status.idle": "2024-03-10T11:07:55.084557Z",
     "shell.execute_reply": "2024-03-10T11:07:55.083388Z"
    },
    "papermill": {
     "duration": 1.309646,
     "end_time": "2024-03-10T11:07:55.086842",
     "exception": false,
     "start_time": "2024-03-10T11:07:53.777196",
     "status": "completed"
    },
    "tags": []
   },
   "outputs": [
    {
     "name": "stdout",
     "output_type": "stream",
     "text": [
      "              precision    recall  f1-score   support\n",
      "\n",
      "           0       1.00      1.00      1.00    300190\n",
      "           1       1.00      1.00      1.00    299810\n",
      "\n",
      "    accuracy                           1.00    600000\n",
      "   macro avg       1.00      1.00      1.00    600000\n",
      "weighted avg       1.00      1.00      1.00    600000\n",
      "\n"
     ]
    }
   ],
   "source": [
    "print(classification_report(ypred,ytest))"
   ]
  },
  {
   "cell_type": "code",
   "execution_count": 30,
   "id": "53a670f1",
   "metadata": {
    "execution": {
     "iopub.execute_input": "2024-03-10T11:07:55.111730Z",
     "iopub.status.busy": "2024-03-10T11:07:55.110890Z",
     "iopub.status.idle": "2024-03-10T11:07:55.248311Z",
     "shell.execute_reply": "2024-03-10T11:07:55.247290Z"
    },
    "papermill": {
     "duration": 0.152878,
     "end_time": "2024-03-10T11:07:55.250506",
     "exception": false,
     "start_time": "2024-03-10T11:07:55.097628",
     "status": "completed"
    },
    "tags": []
   },
   "outputs": [
    {
     "name": "stdout",
     "output_type": "stream",
     "text": [
      "[[300022    168]\n",
      " [     6 299804]]\n"
     ]
    }
   ],
   "source": [
    "print(confusion_matrix(ypred,ytest))"
   ]
  },
  {
   "cell_type": "markdown",
   "id": "ef00c154",
   "metadata": {
    "papermill": {
     "duration": 0.010533,
     "end_time": "2024-03-10T11:07:55.273477",
     "exception": false,
     "start_time": "2024-03-10T11:07:55.262944",
     "status": "completed"
    },
    "tags": []
   },
   "source": [
    "#  Build Logistic regression model and XGBoost model got accuracy score of 0.9980 for logistic regression model and 0.999 for xgboost. \n",
    "# **So XGBoost classifier model working well compare to Logistic regression.**"
   ]
  }
 ],
 "metadata": {
  "kaggle": {
   "accelerator": "none",
   "dataSources": [
    {
     "datasetId": 4517733,
     "sourceId": 7731794,
     "sourceType": "datasetVersion"
    }
   ],
   "dockerImageVersionId": 30664,
   "isGpuEnabled": false,
   "isInternetEnabled": false,
   "language": "python",
   "sourceType": "notebook"
  },
  "kernelspec": {
   "display_name": "Python 3",
   "language": "python",
   "name": "python3"
  },
  "language_info": {
   "codemirror_mode": {
    "name": "ipython",
    "version": 3
   },
   "file_extension": ".py",
   "mimetype": "text/x-python",
   "name": "python",
   "nbconvert_exporter": "python",
   "pygments_lexer": "ipython3",
   "version": "3.10.13"
  },
  "papermill": {
   "default_parameters": {},
   "duration": 111.09183,
   "end_time": "2024-03-10T11:07:56.106038",
   "environment_variables": {},
   "exception": null,
   "input_path": "__notebook__.ipynb",
   "output_path": "__notebook__.ipynb",
   "parameters": {},
   "start_time": "2024-03-10T11:06:05.014208",
   "version": "2.5.0"
  }
 },
 "nbformat": 4,
 "nbformat_minor": 5
}
